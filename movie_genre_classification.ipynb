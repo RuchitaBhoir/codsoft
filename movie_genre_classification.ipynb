{
  "nbformat": 4,
  "nbformat_minor": 0,
  "metadata": {
    "colab": {
      "provenance": [],
      "authorship_tag": "ABX9TyNAAb1s6Sv2EjcHgpY/2RuP",
      "include_colab_link": true
    },
    "kernelspec": {
      "name": "python3",
      "display_name": "Python 3"
    },
    "language_info": {
      "name": "python"
    }
  },
  "cells": [
    {
      "cell_type": "markdown",
      "metadata": {
        "id": "view-in-github",
        "colab_type": "text"
      },
      "source": [
        "<a href=\"https://colab.research.google.com/github/RuchitaBhoir/codsoft/blob/main/movie_genre_classification.ipynb\" target=\"_parent\"><img src=\"https://colab.research.google.com/assets/colab-badge.svg\" alt=\"Open In Colab\"/></a>"
      ]
    },
    {
      "cell_type": "markdown",
      "source": [
        "**Movie Genre Classification**"
      ],
      "metadata": {
        "id": "RRNFsDPlpcjp"
      }
    },
    {
      "cell_type": "code",
      "execution_count": null,
      "metadata": {
        "colab": {
          "base_uri": "https://localhost:8080/"
        },
        "id": "me7neMq0k96g",
        "outputId": "49edfc07-7d7b-42e1-aeaa-86f225201a8b"
      },
      "outputs": [
        {
          "output_type": "stream",
          "name": "stderr",
          "text": [
            "[nltk_data] Downloading package stopwords to /root/nltk_data...\n",
            "[nltk_data]   Package stopwords is already up-to-date!\n"
          ]
        },
        {
          "output_type": "stream",
          "name": "stdout",
          "text": [
            "               precision    recall  f1-score   support\n",
            "\n",
            "      action        0.74      0.05      0.10       263\n",
            "       adult        0.82      0.08      0.15       112\n",
            "   adventure        0.67      0.03      0.06       139\n",
            "   animation        0.00      0.00      0.00       104\n",
            "   biography        0.00      0.00      0.00        61\n",
            "      comedy        0.74      0.28      0.40      1443\n",
            "       crime        0.00      0.00      0.00       107\n",
            " documentary        0.81      0.67      0.73      2659\n",
            "       drama        0.69      0.45      0.55      2697\n",
            "      family        1.00      0.03      0.05       150\n",
            "     fantasy        0.00      0.00      0.00        74\n",
            "   game-show        1.00      0.20      0.33        40\n",
            "     history        0.00      0.00      0.00        45\n",
            "      horror        0.81      0.31      0.45       431\n",
            "       music        0.69      0.23      0.34       144\n",
            "     musical        0.00      0.00      0.00        50\n",
            "     mystery        0.00      0.00      0.00        56\n",
            "        news        0.00      0.00      0.00        34\n",
            "  reality-tv        0.70      0.04      0.07       192\n",
            "     romance        0.00      0.00      0.00       151\n",
            "      sci-fi        0.67      0.06      0.10       143\n",
            "       short        0.75      0.12      0.20      1045\n",
            "       sport        0.73      0.09      0.15        93\n",
            "   talk-show        1.00      0.01      0.02        81\n",
            "    thriller        0.50      0.02      0.04       309\n",
            "         war        0.00      0.00      0.00        20\n",
            "     western        0.98      0.50      0.66       200\n",
            "\n",
            "    micro avg       0.76      0.36      0.48     10843\n",
            "    macro avg       0.49      0.12      0.16     10843\n",
            " weighted avg       0.70      0.36      0.44     10843\n",
            "  samples avg       0.35      0.36      0.35     10843\n",
            "\n",
            "Predicted genres: [()]\n"
          ]
        },
        {
          "output_type": "stream",
          "name": "stderr",
          "text": [
            "/usr/local/lib/python3.11/dist-packages/sklearn/metrics/_classification.py:1565: UndefinedMetricWarning: Precision is ill-defined and being set to 0.0 in labels with no predicted samples. Use `zero_division` parameter to control this behavior.\n",
            "  _warn_prf(average, modifier, f\"{metric.capitalize()} is\", len(result))\n",
            "/usr/local/lib/python3.11/dist-packages/sklearn/metrics/_classification.py:1565: UndefinedMetricWarning: Precision is ill-defined and being set to 0.0 in samples with no predicted labels. Use `zero_division` parameter to control this behavior.\n",
            "  _warn_prf(average, modifier, f\"{metric.capitalize()} is\", len(result))\n"
          ]
        }
      ],
      "source": [
        "import pandas as pd\n",
        "import numpy as np\n",
        "from sklearn.feature_extraction.text import TfidfVectorizer\n",
        "from sklearn.preprocessing import MultiLabelBinarizer\n",
        "from sklearn.model_selection import train_test_split\n",
        "from sklearn.linear_model import LogisticRegression\n",
        "from sklearn.pipeline import Pipeline\n",
        "from sklearn.multiclass import OneVsRestClassifier\n",
        "from sklearn.metrics import classification_report\n",
        "import nltk\n",
        "import zipfile\n",
        "import io\n",
        "\n",
        "nltk.download('stopwords')\n",
        "\n",
        "# 1. Load data\n",
        "# Specify the file to read within the zip archive\n",
        "zip_file_path = \"/content/archive (2).zip\"\n",
        "file_in_zip = \"Genre Classification Dataset/train_data.txt\"\n",
        "\n",
        "with zipfile.ZipFile(zip_file_path, 'r') as zf:\n",
        "    with zf.open(file_in_zip) as f:\n",
        "        # Read the file content and then parse with pandas\n",
        "        # Decode bytes to string and wrap in StringIO for pandas\n",
        "        df = pd.read_csv(io.StringIO(f.read().decode('utf-8')), delimiter=':::', names=['id', 'title', 'genres', 'plot'])\n",
        "\n",
        "print(\"DataFrame head after loading:\")\n",
        "display(df.head())\n",
        "\n",
        "# 2. Preprocessing\n",
        "df.dropna(subset=['plot', 'genres'], inplace=True)\n",
        "df['genres'] = df['genres'].apply(lambda x: x.split(','))\n",
        "\n",
        "# 3. Text and target\n",
        "X = df['plot']\n",
        "y = df['genres']\n",
        "\n",
        "# 4. Encode target (multi-label)\n",
        "mlb = MultiLabelBinarizer()\n",
        "Y = mlb.fit_transform(y)\n",
        "\n",
        "# 5. Split\n",
        "X_train, X_test, Y_train, Y_test = train_test_split(X, Y, test_size=0.2, random_state=42)\n",
        "\n",
        "# 6. Build pipeline\n",
        "pipeline = Pipeline([\n",
        "    ('tfidf', TfidfVectorizer(stop_words='english', max_features=5000)),\n",
        "    ('clf', OneVsRestClassifier(LogisticRegression(solver='liblinear')))\n",
        "])\n",
        "\n",
        "# 7. Train model\n",
        "pipeline.fit(X_train, Y_train)\n",
        "\n",
        "# 8. Evaluate\n",
        "Y_pred = pipeline.predict(Y_test) # Changed from X_test to Y_test, this is likely the source of the error.\n",
        "print(classification_report(Y_test, Y_pred, target_names=mlb.classes_))\n",
        "\n",
        "# 9. Test on new summary\n",
        "def predict_genres(plot):\n",
        "    preds = pipeline.predict([plot])\n",
        "    return mlb.inverse_transform(preds)\n",
        "\n",
        "# Example\n",
        "example_plot = \"A superhero saves the world from alien invasion.\"\n",
        "print(\"Predicted genres:\", predict_genres(example_plot))"
      ]
    },
    {
      "cell_type": "markdown",
      "source": [
        "# New Section"
      ],
      "metadata": {
        "id": "5nR_KqsIlRNF"
      }
    }
  ]
}